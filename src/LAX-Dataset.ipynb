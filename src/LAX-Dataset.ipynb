{
 "cells": [
  {
   "cell_type": "code",
   "execution_count": null,
   "metadata": {},
   "outputs": [],
   "source": [
    "# import dependencies\n",
    "import requests\n",
    "import json\n",
    "import pandas as pd\n",
    "import datetime as dt\n",
    "import numpy as np\n",
    "from pprint import pprint\n",
    "from collections import defaultdict"
   ]
  },
  {
   "cell_type": "code",
   "execution_count": null,
   "metadata": {},
   "outputs": [],
   "source": [
    "# import modules\n",
    "from config import conn_str  \n",
    "from config import api_key\n",
    "from dboperations import *  "
   ]
  },
  {
   "cell_type": "code",
   "execution_count": null,
   "metadata": {},
   "outputs": [],
   "source": [
    "conn = connect2db(conn_str)"
   ]
  },
  {
   "cell_type": "code",
   "execution_count": null,
   "metadata": {},
   "outputs": [],
   "source": [
    "# set flight_dates array for api parameter\n",
    "start_date = dt.date(2021, 4, 24)\n",
    "number_of_days = 3 #for testing assigned 3 will be past 3 months value\n",
    "\n",
    "flight_dates = []\n",
    "cities = ['LAX', 'ATL']\n",
    "\n",
    "for day in range(number_of_days): \n",
    "    flight_date = (start_date - dt.timedelta(days = day)).isoformat()\n",
    "    flight_dates.append(flight_date)\n",
    "\n",
    "print(flight_dates) "
   ]
  },
  {
   "cell_type": "code",
   "execution_count": null,
   "metadata": {},
   "outputs": [],
   "source": [
    "# get aviationstack.com api response for flight dates\n",
    "airlines = defaultdict(list)\n",
    "flights = defaultdict(list)\n",
    "airports = defaultdict(list)\n",
    "#departures = defaultdict(list)\n",
    "#arrivals = defaultdict(list)\n",
    "\n",
    "for city in cities:\n",
    "    \n",
    "    for flight_date in flight_dates:\n",
    "\n",
    "        params = {'access_key': api_key, 'arr_iata': 'LAX', 'flight_date': flight_date}\n",
    "\n",
    "        api_link = requests.get('https://api.aviationstack.com/v1/flights', params) \n",
    "        response = api_link.json()\n",
    "\n",
    "        for data in response['data']: \n",
    "            airlines['airline'].append(data['airline']['name'])\n",
    "            airlines['iata'].append(data['airline']['iata'])\n",
    "            airlines['icao'].append(data['airline']['icao'])\n",
    "\n",
    "            flights['flight_number'].append(data['flight']['number'])\n",
    "            flights['iata'].append(data['flight']['iata'])\n",
    "            flights['icao'].append(data['flight']['icao'])  \n",
    "\n",
    "            flights['departure_airport'].append(data['departure']['airport'])\n",
    "            flights['departure_timezone'].append(data['departure']['timezone'])\n",
    "            flights['departure_iata'].append(data['departure']['iata'])\n",
    "            flights['departure_icao'].append(data['departure']['icao'])\n",
    "            flights['departure_terminal'].append(data['departure']['terminal'])\n",
    "            flights['departure_gate'].append(data['departure']['gate'])\n",
    "            flights['departure_delay'].append(data['departure']['delay'])\n",
    "            flights['departure_scheduled'].append(data['departure']['scheduled'])\n",
    "            flights['departure_estimated'].append(data['departure']['estimated'])\n",
    "            flights['departure_actual'].append(data['departure']['actual'])\n",
    "            flights['departure_estimated_runway'].append(data['departure']['estimated_runway'])\n",
    "            flights['departure_actual_runway'].append(data['departure']['actual_runway'])\n",
    "\n",
    "            flights['arrival_airport'].append(data['arrival']['airport'])\n",
    "            flights['arrival_timezone'].append(data['arrival']['timezone'])\n",
    "            flights['arrival_iata'].append(data['arrival']['iata'])\n",
    "            flights['arrival_icao'].append(data['arrival']['icao'])\n",
    "            flights['arrival_terminal'].append(data['arrival']['terminal'])\n",
    "            flights['arrival_gate'].append(data['arrival']['gate'])\n",
    "            flights['arrival_baggage'].append(data['arrival']['baggage'])\n",
    "            flights['arrival_delay'].append(data['arrival']['delay'])\n",
    "            flights['arrival_scheduled'].append(data['arrival']['scheduled'])\n",
    "            flights['arrival_estimated'].append(data['arrival']['estimated'])\n",
    "            flights['arrival_actual'].append(data['arrival']['actual'])\n",
    "            flights['arrival_estimated_runway'].append(data['arrival']['estimated_runway'])\n",
    "            flights['arrival_actual_runway'].append(data['arrival']['actual_runway'])         "
   ]
  },
  {
   "cell_type": "code",
   "execution_count": null,
   "metadata": {},
   "outputs": [],
   "source": [
    "# pprint(list (flights.items()))  "
   ]
  },
  {
   "cell_type": "code",
   "execution_count": null,
   "metadata": {},
   "outputs": [],
   "source": [
    "# create dataframes from dictionaries\n",
    "airlines_df = pd.DataFrame(airlines)\n",
    "flights_df = pd.DataFrame(flights) \n",
    "\n",
    "flights_df.head()"
   ]
  },
  {
   "cell_type": "code",
   "execution_count": null,
   "metadata": {},
   "outputs": [],
   "source": [
    "# clean airline frame for table\n",
    "airlines_df = airlines_df.dropna(subset = ['airline', 'iata', 'icao'])\n",
    "airlines_df = airlines_df.drop_duplicates(subset = ['airline', 'iata', 'icao']) \n",
    "airlines_df.index = np.arange(1, len(airlines_df) + 1) #use index as airline id \n",
    "airlines_df.reset_index(inplace = True) \n",
    "airlines_df = airlines_df.rename(columns = {\"index\": \"airline_id\", \"name\": \"airline\"})  "
   ]
  },
  {
   "cell_type": "code",
   "execution_count": null,
   "metadata": {},
   "outputs": [],
   "source": [
    "airlines_df.head()"
   ]
  },
  {
   "cell_type": "code",
   "execution_count": null,
   "metadata": {},
   "outputs": [],
   "source": [
    "# airline insert df to table\n",
    "insertvalues(conn, \"airlines\", airlines_df)"
   ]
  },
  {
   "cell_type": "code",
   "execution_count": null,
   "metadata": {},
   "outputs": [],
   "source": [
    "# create new frame for airports\n",
    "# airpots from departures \n",
    "airports_d_df = flights_df[['departure_airport', 'departure_iata', 'departure_icao', 'departure_timezone']] \n",
    "airports_d_df = airports_d_df.rename(columns = {'departure_airport': 'airport', 'departure_timezone': 'timezone', \\\n",
    "                                                'departure_iata': 'iata', 'departure_icao': 'icao'}) \n",
    "airports_d_df = airports_d_df.drop_duplicates()\n",
    "\n",
    "#airports from arrivals\n",
    "airports_a_df = flights_df[['arrival_airport', 'arrival_iata', 'arrival_icao', 'arrival_timezone']]\n",
    "airports_a_df = airports_d_df.rename(columns = {'arrival_airport': 'airport', 'arrival_timezone': 'timezone', \\\n",
    "                                                'arrival_iata': 'iata', 'arrival_icao': 'icao'}) \n",
    "airports_a_df = airports_a_df.drop_duplicates()\n",
    " \n",
    "# combine\n",
    "airports_df = pd.concat([airports_a_df, airports_d_df])\n",
    "\n",
    "airports_df = airports_df.drop_duplicates(subset=['airport', 'iata', 'icao']) \n",
    "\n",
    "airports_df.index = np.arange(1, len(airports_df) + 1) #use index as airport id\n",
    "airports_df.reset_index(inplace = True)\n",
    "airports_df = airports_df.rename(columns = {\"index\": \"airport_id\"})"
   ]
  },
  {
   "cell_type": "code",
   "execution_count": null,
   "metadata": {},
   "outputs": [],
   "source": [
    "airports_df.head()"
   ]
  },
  {
   "cell_type": "code",
   "execution_count": null,
   "metadata": {},
   "outputs": [],
   "source": [
    "# airport insert df to table\n",
    "insertvalues(conn, \"airports\", airports_df)"
   ]
  },
  {
   "cell_type": "code",
   "execution_count": null,
   "metadata": {},
   "outputs": [],
   "source": [
    "# list(flights_df.columns)"
   ]
  },
  {
   "cell_type": "code",
   "execution_count": null,
   "metadata": {},
   "outputs": [],
   "source": [
    "def find_airport_id(conn, airport):\n",
    "    query = f\"select airport_id from airports where airport = '{airport}'\"\n",
    "#     max_value = max_dict.get('max')\n",
    "    airport_id = executestatement(conn, query).get('airport_id')\n",
    "    return airport_id"
   ]
  },
  {
   "cell_type": "code",
   "execution_count": null,
   "metadata": {},
   "outputs": [],
   "source": [
    "def find_airline_id(conn, airline):\n",
    "    query = f\"select airline_id from airlines where airline = '{airline}'\" \n",
    "    airline_id = executestatement(conn, query).get('airline_id')\n",
    "    return airline_id"
   ]
  },
  {
   "cell_type": "code",
   "execution_count": null,
   "metadata": {},
   "outputs": [],
   "source": [
    "# result = find_table_id(conn, 'airports', 'airport_id', 'Chicago O''hare International' ) #'Love Field')\n",
    "# #result = find_airport_id('Chicago O''hare International')\n",
    "# result"
   ]
  },
  {
   "cell_type": "code",
   "execution_count": null,
   "metadata": {},
   "outputs": [],
   "source": [
    "# departures\n",
    "flights_d_df = flights_df[['flight_number', 'iata', 'icao', 'departure_airport', \\\n",
    "                           'departure_terminal', 'departure_gate', \\\n",
    "                           'departure_delay', 'departure_scheduled', \\\n",
    "                           'departure_estimated', 'departure_actual', \\\n",
    "                           'departure_estimated_runway', 'departure_actual_runway']]\n",
    "\n",
    "flights_d_df = flights_d_df.head() # test\n",
    "\n",
    "flights_d_df = flights_d_df.assign(flight_type = 'DEPARTURE') #flight type  \n",
    "flights_d_df = flights_d_df.assign(airline_id = None)\n",
    "\n",
    "flights_d_df['airport_id'] = flights_d_df['departure_airport']. \\\n",
    "                             apply(lambda element: find_airport_id(conn, element )) \n",
    "\n",
    "flights_d_df = flights_d_df.rename(columns = {'departure_terminal': 'terminal', 'departure_gate': 'gate', \\\n",
    "                                              'departure_delay': 'delay', 'departure_scheduled': 'scheduled', \\\n",
    "                                              'departure_estimated': 'estimated', 'departure_actual': 'actual', \\\n",
    "                                              'departure_estimated_runway': 'estimated_runway', \\\n",
    "                                              'departure_actual_runway': 'actual_runway'  }) \n",
    "flights_d_df"
   ]
  },
  {
   "cell_type": "code",
   "execution_count": null,
   "metadata": {},
   "outputs": [],
   "source": [
    "# arrivals\n",
    "flights_a_df = flights_df[['flight_number', 'iata', 'icao', 'arrival_airport', \\\n",
    "                           'arrival_terminal', 'arrival_gate', \\\n",
    "                           'arrival_baggage', 'arrival_delay', 'arrival_scheduled', \\\n",
    "                           'arrival_estimated', 'arrival_actual', \\\n",
    "                           'arrival_estimated_runway', 'arrival_actual_runway' ]] \n",
    "\n",
    "flights_a_df = flights_a_df.assign(flight_type = 'ARRIVAL') #flight type  \n",
    "flights_a_df = flights_a_df.assign(airline_id = None)\n",
    "\n",
    "flights_a_df['airport_id'] = flights_a_df['arrival_airport']. \\\n",
    "                             apply(lambda element: find_airport_id(conn, element )) \n",
    "\n",
    "flights_a_df = flights_a_df.rename(columns = {'arrival_terminal': 'terminal', 'arrival_gate': 'gate', \\\n",
    "                                              'arrival_baggage': 'baggage', \\\n",
    "                                              'arrival_delay': 'delay', 'arrival_scheduled': 'scheduled', \\\n",
    "                                              'arrival_estimated': 'estimated', 'arrival_actual': 'actual', \\\n",
    "                                              'arrival_estimated_runway': 'estimated_runway', \\\n",
    "                                              'arrival_actual_runway': 'actual_runway'  }) \n",
    "flights_a_df.head()"
   ]
  },
  {
   "cell_type": "code",
   "execution_count": null,
   "metadata": {},
   "outputs": [],
   "source": [
    "# combine departure and arrival flights\n",
    "all_flights_df = pd.concat([flights_d_df, flights_a_df])\n",
    "\n",
    "all_flights_df.drop(columns = ['departure_airport', 'arrival_airport'])\n",
    "all_flights_df = all_flights_df.dropna(subset = ['flight_number', 'iata', 'icao', 'airport_id'])\n",
    "\n",
    "# sort columns for table insert\n",
    "all_flights_df = all_flights_df[['flight_number', 'flight_type', 'iata', 'icao', 'airport_id', 'airline_id', \\\n",
    "                                 'terminal', 'gate', 'baggage', 'delay', 'scheduled', 'estimated', 'actual', \\\n",
    "                                 'estimated_runway', 'actual_runway' ]]\n",
    "\n",
    "\n",
    "all_flights_df.index = np.arange(1, len(all_flights_df) + 1) #use index as flight id \n",
    "all_flights_df.reset_index(inplace = True) \n",
    "all_flights_df = all_flights_df.rename(columns = {\"index\": \"flight_id\"})  \n",
    "\n",
    "all_flights_df.head()"
   ]
  },
  {
   "cell_type": "code",
   "execution_count": null,
   "metadata": {},
   "outputs": [],
   "source": [
    "# flights insert df to table\n",
    "insertvalues(conn, \"flights\", all_flights_df)"
   ]
  },
  {
   "cell_type": "code",
   "execution_count": null,
   "metadata": {},
   "outputs": [],
   "source": [
    "closeconnection(conn);"
   ]
  },
  {
   "cell_type": "code",
   "execution_count": null,
   "metadata": {},
   "outputs": [],
   "source": []
  }
 ],
 "metadata": {
  "kernelspec": {
   "display_name": "Python 3",
   "language": "python",
   "name": "python3"
  },
  "language_info": {
   "codemirror_mode": {
    "name": "ipython",
    "version": 3
   },
   "file_extension": ".py",
   "mimetype": "text/x-python",
   "name": "python",
   "nbconvert_exporter": "python",
   "pygments_lexer": "ipython3",
   "version": "3.8.5"
  }
 },
 "nbformat": 4,
 "nbformat_minor": 4
}
